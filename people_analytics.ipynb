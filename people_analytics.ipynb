{
 "cells": [
  {
   "cell_type": "markdown",
   "metadata": {},
   "source": [
    "<h2> Case Description </h2>\n",
    "<br>The HRD department receives many complaints about many employees leaving the company and complaints about poor employee performance. </br>\n",
    "<br>Lead of people wants to prevent employee turnover as well as increase employee performance.</br>\n",
    "<br>In order to resolve the problems, he assigned you to make a data product that help him to assess the problems.</br>\n",
    "<br>Lead of people needs to assess:</br> How bad is the employee turnover and How bad is the employee performance?"
   ]
  },
  {
   "cell_type": "markdown",
   "metadata": {},
   "source": [
    "<h3> Dataset Overview </h3>\n",
    "<p>The dataset consist of people analytics data in ABC Company</p>\n",
    "<p>Features in dataset:</p>\n",
    "<li>Employee ID</li>\n",
    "<li>Gender: Male / Female</li>\n",
    "<li>Age: Numeric</li>\n",
    "<li>Education: Education Level (Primary - Ph.D.)</li>\n",
    "<li>Department: Company Department (e.g. marketing, operational, etc.)</li>\n",
    "<li>Performance Rating: Employee performance rating assesed by their manager</li>\n",
    "<li>Absent: Number of days employee unplanned period of being away from work</li>\n",
    "<li>Turnover: leaving employee from the organization</li>\n"
   ]
  },
  {
   "cell_type": "code",
   "execution_count": null,
   "metadata": {},
   "outputs": [],
   "source": []
  }
 ],
 "metadata": {
  "kernelspec": {
   "display_name": "miota",
   "language": "python",
   "name": "python3"
  },
  "language_info": {
   "codemirror_mode": {
    "name": "ipython",
    "version": 3
   },
   "file_extension": ".py",
   "mimetype": "text/x-python",
   "name": "python",
   "nbconvert_exporter": "python",
   "pygments_lexer": "ipython3",
   "version": "3.11.5"
  },
  "orig_nbformat": 4
 },
 "nbformat": 4,
 "nbformat_minor": 2
}
